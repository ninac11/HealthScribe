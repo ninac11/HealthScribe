{
  "cells": [
    {
      "cell_type": "markdown",
      "metadata": {
        "id": "EF89_7n0Qujy"
      },
      "source": [
        "# Load Datasets"
      ]
    },
    {
      "cell_type": "code",
      "execution_count": 41,
      "metadata": {
        "colab": {
          "base_uri": "https://localhost:8080/"
        },
        "id": "OT5fN3G8QwFz",
        "outputId": "3bea1e71-ee27-4ffa-e75e-3a081964fb7f"
      },
      "outputs": [
        {
          "output_type": "stream",
          "name": "stdout",
          "text": [
            "Requirement already satisfied: lxml in /usr/local/lib/python3.10/dist-packages (5.3.0)\n",
            "Requirement already satisfied: xmltodict in /usr/local/lib/python3.10/dist-packages (0.14.2)\n"
          ]
        }
      ],
      "source": [
        "!pip install lxml xmltodict"
      ]
    },
    {
      "cell_type": "code",
      "execution_count": 42,
      "metadata": {
        "colab": {
          "base_uri": "https://localhost:8080/"
        },
        "id": "9DJ0p-U7uiCx",
        "outputId": "0834bb96-78be-42de-d0da-a9808a7e6358"
      },
      "outputs": [
        {
          "output_type": "stream",
          "name": "stdout",
          "text": [
            "Requirement already satisfied: imbalanced-learn in /usr/local/lib/python3.10/dist-packages (0.12.4)\n",
            "Requirement already satisfied: numpy>=1.17.3 in /usr/local/lib/python3.10/dist-packages (from imbalanced-learn) (1.26.4)\n",
            "Requirement already satisfied: scipy>=1.5.0 in /usr/local/lib/python3.10/dist-packages (from imbalanced-learn) (1.13.1)\n",
            "Requirement already satisfied: scikit-learn>=1.0.2 in /usr/local/lib/python3.10/dist-packages (from imbalanced-learn) (1.5.2)\n",
            "Requirement already satisfied: joblib>=1.1.1 in /usr/local/lib/python3.10/dist-packages (from imbalanced-learn) (1.4.2)\n",
            "Requirement already satisfied: threadpoolctl>=2.0.0 in /usr/local/lib/python3.10/dist-packages (from imbalanced-learn) (3.5.0)\n"
          ]
        }
      ],
      "source": [
        "!pip install imbalanced-learn"
      ]
    },
    {
      "cell_type": "code",
      "execution_count": 43,
      "metadata": {
        "id": "wOLcyfSruqyG"
      },
      "outputs": [],
      "source": [
        "import pandas as pd\n",
        "from sklearn.model_selection import train_test_split\n",
        "from sklearn.preprocessing import LabelEncoder\n",
        "from sklearn.feature_extraction.text import TfidfVectorizer\n",
        "from imblearn.over_sampling import SMOTE\n",
        "from transformers import AutoTokenizer, AutoConfig, AutoModelForSequenceClassification, TrainingArguments, Trainer, DataCollatorWithPadding\n",
        "from sklearn.metrics import accuracy_score, classification_report, precision_recall_fscore_support\n",
        "import torch\n",
        "from torch.utils.data import Dataset"
      ]
    },
    {
      "cell_type": "code",
      "execution_count": 44,
      "metadata": {
        "colab": {
          "base_uri": "https://localhost:8080/"
        },
        "id": "abacLYCGRPuM",
        "outputId": "0d5df753-0d0b-42da-96d9-9c0b74131a9f"
      },
      "outputs": [
        {
          "output_type": "stream",
          "name": "stdout",
          "text": [
            "Drive already mounted at /content/drive; to attempt to forcibly remount, call drive.mount(\"/content/drive\", force_remount=True).\n"
          ]
        }
      ],
      "source": [
        "# Only need to run once (Mounts Drive and Data Files)\n",
        "import os\n",
        "from google.colab import drive\n",
        "\n",
        "drive.mount('/content/drive')"
      ]
    },
    {
      "cell_type": "code",
      "execution_count": 45,
      "metadata": {
        "colab": {
          "base_uri": "https://localhost:8080/"
        },
        "id": "KisDkoqYVQfZ",
        "outputId": "bcdc4f13-55e5-44c2-a9d8-2e07b6de0343"
      },
      "outputs": [
        {
          "output_type": "stream",
          "name": "stdout",
          "text": [
            "   Unnamed: 0                                        description  \\\n",
            "0           0   A 23-year-old white female presents with comp...   \n",
            "1           1           Consult for laparoscopic gastric bypass.   \n",
            "2           2           Consult for laparoscopic gastric bypass.   \n",
            "3           3                             2-D M-Mode. Doppler.     \n",
            "4           4                                 2-D Echocardiogram   \n",
            "\n",
            "             medical_specialty                                sample_name  \\\n",
            "0         Allergy / Immunology                         Allergic Rhinitis    \n",
            "1                   Bariatrics   Laparoscopic Gastric Bypass Consult - 2    \n",
            "2                   Bariatrics   Laparoscopic Gastric Bypass Consult - 1    \n",
            "3   Cardiovascular / Pulmonary                    2-D Echocardiogram - 1    \n",
            "4   Cardiovascular / Pulmonary                    2-D Echocardiogram - 2    \n",
            "\n",
            "                                       transcription  \\\n",
            "0  SUBJECTIVE:,  This 23-year-old white female pr...   \n",
            "1  PAST MEDICAL HISTORY:, He has difficulty climb...   \n",
            "2  HISTORY OF PRESENT ILLNESS: , I have seen ABC ...   \n",
            "3  2-D M-MODE: , ,1.  Left atrial enlargement wit...   \n",
            "4  1.  The left ventricular cavity size and wall ...   \n",
            "\n",
            "                                            keywords  \n",
            "0  allergy / immunology, allergic rhinitis, aller...  \n",
            "1  bariatrics, laparoscopic gastric bypass, weigh...  \n",
            "2  bariatrics, laparoscopic gastric bypass, heart...  \n",
            "3  cardiovascular / pulmonary, 2-d m-mode, dopple...  \n",
            "4  cardiovascular / pulmonary, 2-d, doppler, echo...  \n",
            "columns:  Index(['Unnamed: 0', 'description', 'medical_specialty', 'sample_name',\n",
            "       'transcription', 'keywords'],\n",
            "      dtype='object')\n",
            "describe:          Unnamed: 0\n",
            "count  4999.000000\n",
            "mean   2499.000000\n",
            "std    1443.231328\n",
            "min       0.000000\n",
            "25%    1249.500000\n",
            "50%    2499.000000\n",
            "75%    3748.500000\n",
            "max    4998.000000\n",
            "Empty DataFrame\n",
            "Columns: [Unnamed: 0, description, medical_specialty, sample_name, transcription, keywords]\n",
            "Index: []\n"
          ]
        }
      ],
      "source": [
        "import pandas as pd\n",
        "\n",
        "# Define paths to each dataset file in Google Drive\n",
        "path_to_csv = \"/content/drive/MyDrive/NinaNLP/mtsamples.csv\" # Change to mtsamples.csv file path\n",
        "\n",
        "# Load the dataset\n",
        "data = pd.read_csv(path_to_csv)\n",
        "\n",
        "# Display the first few rows to verify\n",
        "print(data.head())\n",
        "print(\"columns: \", data.columns)\n",
        "print(\"describe: \", data.describe())\n",
        "print(data.head(0))"
      ]
    },
    {
      "cell_type": "markdown",
      "metadata": {
        "id": "I2i5i9N8ef4H"
      },
      "source": [
        "## Check Target Column Distribution"
      ]
    },
    {
      "cell_type": "code",
      "execution_count": 46,
      "metadata": {
        "colab": {
          "base_uri": "https://localhost:8080/"
        },
        "id": "rLThLMVzeWfz",
        "outputId": "985758b7-85a3-44d0-8436-ac39ed2328b9"
      },
      "outputs": [
        {
          "output_type": "stream",
          "name": "stdout",
          "text": [
            "unique values: [' Allergy / Immunology' ' Bariatrics' ' Cardiovascular / Pulmonary'\n",
            " ' Neurology' ' Dentistry' ' Urology' ' General Medicine' ' Surgery'\n",
            " ' Speech - Language' ' SOAP / Chart / Progress Notes' ' Sleep Medicine'\n",
            " ' Rheumatology' ' Radiology' ' Psychiatry / Psychology' ' Podiatry'\n",
            " ' Physical Medicine - Rehab' ' Pediatrics - Neonatal' ' Pain Management'\n",
            " ' Orthopedic' ' Ophthalmology' ' Office Notes' ' Obstetrics / Gynecology'\n",
            " ' Neurosurgery' ' Nephrology' ' Letters' ' Lab Medicine - Pathology'\n",
            " ' IME-QME-Work Comp etc.' ' Hospice - Palliative Care'\n",
            " ' Hematology - Oncology' ' Gastroenterology' ' ENT - Otolaryngology'\n",
            " ' Endocrinology' ' Emergency Room Reports' ' Discharge Summary'\n",
            " ' Diets and Nutritions' ' Dermatology' ' Cosmetic / Plastic Surgery'\n",
            " ' Consult - History and Phy.' ' Chiropractic' ' Autopsy']\n",
            "Number of unique values: 40\n",
            "medical_specialty\n",
            "Surgery                          1103\n",
            "Consult - History and Phy.        516\n",
            "Cardiovascular / Pulmonary        372\n",
            "Orthopedic                        355\n",
            "Radiology                         273\n",
            "General Medicine                  259\n",
            "Gastroenterology                  230\n",
            "Neurology                         223\n",
            "SOAP / Chart / Progress Notes     166\n",
            "Obstetrics / Gynecology           160\n",
            "Urology                           158\n",
            "Discharge Summary                 108\n",
            "ENT - Otolaryngology               98\n",
            "Neurosurgery                       94\n",
            "Hematology - Oncology              90\n",
            "Ophthalmology                      83\n",
            "Nephrology                         81\n",
            "Emergency Room Reports             75\n",
            "Pediatrics - Neonatal              70\n",
            "Pain Management                    62\n",
            "Psychiatry / Psychology            53\n",
            "Office Notes                       51\n",
            "Podiatry                           47\n",
            "Dermatology                        29\n",
            "Cosmetic / Plastic Surgery         27\n",
            "Dentistry                          27\n",
            "Letters                            23\n",
            "Physical Medicine - Rehab          21\n",
            "Sleep Medicine                     20\n",
            "Endocrinology                      19\n",
            "Bariatrics                         18\n",
            "IME-QME-Work Comp etc.             16\n",
            "Chiropractic                       14\n",
            "Rheumatology                       10\n",
            "Diets and Nutritions               10\n",
            "Speech - Language                   9\n",
            "Autopsy                             8\n",
            "Lab Medicine - Pathology            8\n",
            "Allergy / Immunology                7\n",
            "Hospice - Palliative Care           6\n",
            "Name: count, dtype: int64\n"
          ]
        }
      ],
      "source": [
        "print(f\"unique values: {data['medical_specialty'].unique()}\")\n",
        "unique_specialties = data['medical_specialty'].nunique()\n",
        "print(f\"Number of unique values: {unique_specialties}\")\n",
        "\n",
        "\n",
        "# Frequency of each specialty\n",
        "specialty_counts = data['medical_specialty'].value_counts()\n",
        "print(specialty_counts)"
      ]
    },
    {
      "cell_type": "markdown",
      "metadata": {
        "id": "PyOLqiLYetW8"
      },
      "source": [
        "# Data Preprocessing"
      ]
    },
    {
      "cell_type": "markdown",
      "metadata": {
        "id": "7Q2QHTwYfO6F"
      },
      "source": [
        "## Clean Data"
      ]
    },
    {
      "cell_type": "code",
      "execution_count": 47,
      "metadata": {
        "colab": {
          "base_uri": "https://localhost:8080/"
        },
        "id": "92tXw_2NewaD",
        "outputId": "9e603c01-eb9b-4da7-a1dd-4ad6e138c754"
      },
      "outputs": [
        {
          "output_type": "stream",
          "name": "stdout",
          "text": [
            "Remaining rows after dropping missing transcriptions: 4966\n"
          ]
        }
      ],
      "source": [
        "import re\n",
        "# Handle Missing Values\n",
        "data = data.dropna(subset=['transcription'])\n",
        "print(f\"Remaining rows after dropping missing transcriptions: {len(data)}\")\n",
        "\n",
        "# Clean Transcriptions - lowercase, remove special characters, and extra spaces\n",
        "def clean_text(text):\n",
        "    text = re.sub(r'\\s+', ' ', str(text))  # Remove multiple spaces\n",
        "    text = re.sub(r'[^\\w\\s]', '', text)  # Remove special characters\n",
        "    return text.lower().strip()\n",
        "\n",
        "data['clean_transcription'] = data['transcription'].apply(clean_text)"
      ]
    },
    {
      "cell_type": "markdown",
      "metadata": {
        "id": "scgzeTIpfSps"
      },
      "source": [
        "## Combine Small Classes and Encode Labels"
      ]
    },
    {
      "cell_type": "code",
      "execution_count": 48,
      "metadata": {
        "colab": {
          "base_uri": "https://localhost:8080/"
        },
        "id": "JHwz_okkf50g",
        "outputId": "52725b2a-b53e-44ed-dfcb-a50d92148b22"
      },
      "outputs": [
        {
          "output_type": "stream",
          "name": "stdout",
          "text": [
            "Top 4 specialties: [' Surgery', ' Consult - History and Phy.', ' Cardiovascular / Pulmonary', ' Orthopedic']\n",
            "Updated label distribution:\n",
            "updated_specialty\n",
            "Other                          2636\n",
            " Surgery                       1088\n",
            " Consult - History and Phy.     516\n",
            " Cardiovascular / Pulmonary     371\n",
            " Orthopedic                     355\n",
            "Name: count, dtype: int64\n",
            "Label mapping: {' Cardiovascular / Pulmonary': 0, ' Consult - History and Phy.': 1, ' Orthopedic': 2, ' Surgery': 3, 'Other': 4}\n"
          ]
        }
      ],
      "source": [
        "# Step 1: Identify the top 4 specialties by frequency\n",
        "top_specialties = data['medical_specialty'].value_counts().nlargest(4).index.tolist()\n",
        "print(\"Top 4 specialties:\", top_specialties)\n",
        "\n",
        "# Step 2: Create a new column with updated labels\n",
        "def map_specialty(specialty):\n",
        "    if specialty in top_specialties:\n",
        "        return specialty\n",
        "    else:\n",
        "        return \"Other\"\n",
        "\n",
        "data['updated_specialty'] = data['medical_specialty'].apply(map_specialty)\n",
        "\n",
        "# Step 3: Verify the new label distribution\n",
        "print(\"Updated label distribution:\")\n",
        "print(data['updated_specialty'].value_counts())\n",
        "\n",
        "# Step 4: Encode the updated labels\n",
        "from sklearn.preprocessing import LabelEncoder\n",
        "label_encoder = LabelEncoder()\n",
        "data['label'] = label_encoder.fit_transform(data['updated_specialty']) # For 4 labels - \"updated_specialty, For 40 labels - \"medical_specialty\"\n",
        "\n",
        "# Check the mapping of specialties to numeric labels\n",
        "print(\"Label mapping:\", dict(zip(label_encoder.classes_, range(len(label_encoder.classes_)))))"
      ]
    },
    {
      "cell_type": "markdown",
      "metadata": {
        "id": "YHZjHpEnffLL"
      },
      "source": [
        "## Split Data"
      ]
    },
    {
      "cell_type": "code",
      "execution_count": 49,
      "metadata": {
        "colab": {
          "base_uri": "https://localhost:8080/"
        },
        "id": "z36pCjmpfg0i",
        "outputId": "08c2c038-a0cd-4a5d-c64f-baa5a972121b"
      },
      "outputs": [
        {
          "output_type": "stream",
          "name": "stdout",
          "text": [
            "Training data size before SMOTE: 3972\n",
            "Class distribution before SMOTE:\n",
            "label\n",
            "4    2108\n",
            "3     870\n",
            "1     413\n",
            "0     297\n",
            "2     284\n",
            "Name: count, dtype: int64\n",
            "Training data size after SMOTE: 10540\n",
            "Class distribution after SMOTE:\n",
            "label\n",
            "4    2108\n",
            "3    2108\n",
            "1    2108\n",
            "2    2108\n",
            "0    2108\n",
            "Name: count, dtype: int64\n"
          ]
        }
      ],
      "source": [
        "# Split Data into Training, Validation, and Test Sets\n",
        "from sklearn.model_selection import train_test_split\n",
        "\n",
        "train_data, test_data = train_test_split(data, test_size=0.2, random_state=42, stratify=data['label'])\n",
        "val_data, test_data = train_test_split(test_data, test_size=0.5, random_state=42)\n",
        "\n",
        "print(f\"Training data size before SMOTE: {len(train_data)}\")\n",
        "\n",
        "# Apply SMOTE for Class Balancing\n",
        "X_train = train_data['clean_transcription']\n",
        "y_train = train_data['label']\n",
        "\n",
        "# Vectorize text data\n",
        "vectorizer = TfidfVectorizer(max_features=5000)\n",
        "X_train_vectorized = vectorizer.fit_transform(X_train)\n",
        "\n",
        "# Check the minimum number of samples in each class\n",
        "print(\"Class distribution before SMOTE:\")\n",
        "print(y_train.value_counts())\n",
        "\n",
        "# Determine the number of neighbors based on the smallest class size\n",
        "min_samples_per_class = y_train.value_counts().min()\n",
        "k_neighbors = min(2, min_samples_per_class - 1)\n",
        "\n",
        "# Apply SMOTE with adjusted k_neighbors\n",
        "smote = SMOTE(random_state=42, k_neighbors=k_neighbors)\n",
        "X_train_resampled, y_train_resampled = smote.fit_resample(X_train_vectorized, y_train)\n",
        "\n",
        "# Convert resampled data to DataFrame\n",
        "resampled_text = vectorizer.inverse_transform(X_train_resampled)  # Convert back to interpretable text\n",
        "train_data = pd.DataFrame({\n",
        "'clean_transcription': [\" \".join(doc) for doc in resampled_text],  # Recreate text\n",
        "'label': y_train_resampled\n",
        "})\n",
        "\n",
        "print(f\"Training data size after SMOTE: {len(train_data)}\")\n",
        "print(\"Class distribution after SMOTE:\")\n",
        "print(train_data['label'].value_counts())  # Check class distribution after SMOTE"
      ]
    },
    {
      "cell_type": "markdown",
      "metadata": {
        "id": "PgnVzykOgUVr"
      },
      "source": [
        "## Tokenize the Text"
      ]
    },
    {
      "cell_type": "code",
      "execution_count": 50,
      "metadata": {
        "id": "6yMPgZSygVrG"
      },
      "outputs": [],
      "source": [
        "tokenizer =  AutoTokenizer.from_pretrained(\"emilyalsentzer/Bio_ClinicalBERT\")\n",
        "\n",
        "def tokenize_text(dataframe):\n",
        "  return tokenizer(list(dataframe['clean_transcription']), padding=\"max_length\", truncation=True, max_length=256, return_tensors=\"pt\")\n",
        "\n",
        "train_encodings = tokenize_text(train_data)\n",
        "val_encodings = tokenize_text(val_data)\n",
        "test_encodings = tokenize_text(test_data)"
      ]
    },
    {
      "cell_type": "markdown",
      "metadata": {
        "id": "a-ld_gsJiAWy"
      },
      "source": [
        "## Prepare for PyTorch"
      ]
    },
    {
      "cell_type": "code",
      "execution_count": 51,
      "metadata": {
        "id": "OXGXpc2NiCT1"
      },
      "outputs": [],
      "source": [
        "# Step 5: Prepare PyTorch Dataset\n",
        "import torch\n",
        "from torch.utils.data import Dataset\n",
        "\n",
        "class MedicalSpecialtyDataset(Dataset):\n",
        "    def __init__(self, encodings, labels):\n",
        "        self.encodings = encodings\n",
        "        self.labels = torch.tensor(labels.values)\n",
        "\n",
        "    def __len__(self):\n",
        "        return len(self.labels)\n",
        "\n",
        "    def __getitem__(self, idx):\n",
        "        item = {key: val[idx] for key, val in self.encodings.items()}\n",
        "        item['labels'] = self.labels[idx]\n",
        "        return item\n",
        "\n",
        "# Create datasets\n",
        "train_dataset = MedicalSpecialtyDataset(train_encodings, train_data['label'])\n",
        "val_dataset = MedicalSpecialtyDataset(val_encodings, val_data['label'])\n",
        "test_dataset = MedicalSpecialtyDataset(test_encodings, test_data['label'])"
      ]
    },
    {
      "cell_type": "markdown",
      "metadata": {
        "id": "_YcYzY3UiNA0"
      },
      "source": [
        "# Fine-Tune BioBert and Evaluation\n",
        "\n"
      ]
    },
    {
      "cell_type": "code",
      "execution_count": 52,
      "metadata": {
        "id": "vb6IeMghlcoE"
      },
      "outputs": [],
      "source": [
        "from sklearn.metrics import accuracy_score, precision_recall_fscore_support\n",
        "\n",
        "def compute_metrics(eval_pred):\n",
        "    logits, labels = eval_pred\n",
        "    predictions = logits.argmax(axis=-1)\n",
        "    acc = accuracy_score(labels, predictions)\n",
        "    report = classification_report(labels, predictions, target_names=label_encoder.classes_, output_dict=True)\n",
        "\n",
        "    class_metrics = {f\"class_{label_encoder.inverse_transform([i])[0]}\": report[label_encoder.inverse_transform([i])[0]]\n",
        "                     for i in range(len(label_encoder.classes_))}\n",
        "\n",
        "    return {\n",
        "        \"accuracy\": acc,\n",
        "        **class_metrics\n",
        "    }"
      ]
    },
    {
      "cell_type": "code",
      "execution_count": 53,
      "metadata": {
        "colab": {
          "base_uri": "https://localhost:8080/",
          "height": 938
        },
        "id": "gxDbzru1iUGb",
        "outputId": "67656f71-4fb9-4759-d5dc-954505a22be1"
      },
      "outputs": [
        {
          "output_type": "stream",
          "name": "stderr",
          "text": [
            "Some weights of BertForSequenceClassification were not initialized from the model checkpoint at emilyalsentzer/Bio_ClinicalBERT and are newly initialized: ['classifier.bias', 'classifier.weight']\n",
            "You should probably TRAIN this model on a down-stream task to be able to use it for predictions and inference.\n",
            "/usr/local/lib/python3.10/dist-packages/transformers/training_args.py:1568: FutureWarning: `evaluation_strategy` is deprecated and will be removed in version 4.46 of 🤗 Transformers. Use `eval_strategy` instead\n",
            "  warnings.warn(\n"
          ]
        },
        {
          "output_type": "display_data",
          "data": {
            "text/plain": [
              "<IPython.core.display.HTML object>"
            ],
            "text/html": [
              "\n",
              "    <div>\n",
              "      \n",
              "      <progress value='820' max='820' style='width:300px; height:20px; vertical-align: middle;'></progress>\n",
              "      [820/820 20:20, Epoch 4/5]\n",
              "    </div>\n",
              "    <table border=\"1\" class=\"dataframe\">\n",
              "  <thead>\n",
              " <tr style=\"text-align: left;\">\n",
              "      <th>Epoch</th>\n",
              "      <th>Training Loss</th>\n",
              "      <th>Validation Loss</th>\n",
              "      <th>Accuracy</th>\n",
              "      <th>Precision</th>\n",
              "      <th>Recall</th>\n",
              "      <th>F1</th>\n",
              "    </tr>\n",
              "  </thead>\n",
              "  <tbody>\n",
              "    <tr>\n",
              "      <td>0</td>\n",
              "      <td>No log</td>\n",
              "      <td>1.478913</td>\n",
              "      <td>0.501006</td>\n",
              "      <td>0.366833</td>\n",
              "      <td>0.501006</td>\n",
              "      <td>0.393807</td>\n",
              "    </tr>\n",
              "    <tr>\n",
              "      <td>1</td>\n",
              "      <td>No log</td>\n",
              "      <td>1.205028</td>\n",
              "      <td>0.541247</td>\n",
              "      <td>0.424916</td>\n",
              "      <td>0.541247</td>\n",
              "      <td>0.440852</td>\n",
              "    </tr>\n",
              "    <tr>\n",
              "      <td>2</td>\n",
              "      <td>No log</td>\n",
              "      <td>1.082147</td>\n",
              "      <td>0.537223</td>\n",
              "      <td>0.457595</td>\n",
              "      <td>0.537223</td>\n",
              "      <td>0.477778</td>\n",
              "    </tr>\n",
              "    <tr>\n",
              "      <td>3</td>\n",
              "      <td>1.281900</td>\n",
              "      <td>1.040308</td>\n",
              "      <td>0.539235</td>\n",
              "      <td>0.504580</td>\n",
              "      <td>0.539235</td>\n",
              "      <td>0.494741</td>\n",
              "    </tr>\n",
              "    <tr>\n",
              "      <td>4</td>\n",
              "      <td>1.281900</td>\n",
              "      <td>1.042304</td>\n",
              "      <td>0.537223</td>\n",
              "      <td>0.487203</td>\n",
              "      <td>0.537223</td>\n",
              "      <td>0.498441</td>\n",
              "    </tr>\n",
              "  </tbody>\n",
              "</table><p>"
            ]
          },
          "metadata": {}
        },
        {
          "output_type": "stream",
          "name": "stderr",
          "text": [
            "/usr/local/lib/python3.10/dist-packages/sklearn/metrics/_classification.py:1531: UndefinedMetricWarning: Precision is ill-defined and being set to 0.0 in labels with no predicted samples. Use `zero_division` parameter to control this behavior.\n",
            "  _warn_prf(average, modifier, f\"{metric.capitalize()} is\", len(result))\n"
          ]
        },
        {
          "output_type": "display_data",
          "data": {
            "text/plain": [
              "<IPython.core.display.HTML object>"
            ],
            "text/html": []
          },
          "metadata": {}
        },
        {
          "output_type": "stream",
          "name": "stdout",
          "text": [
            "Evaluation Results: {'eval_loss': 1.0224897861480713, 'eval_accuracy': 0.5412474849094567, 'eval_precision': 0.4713245530604763, 'eval_recall': 0.5412474849094567, 'eval_f1': 0.4974863344825767, 'eval_runtime': 1.9659, 'eval_samples_per_second': 252.808, 'eval_steps_per_second': 32.046, 'epoch': 4.983308042488619}\n"
          ]
        },
        {
          "output_type": "display_data",
          "data": {
            "text/plain": [
              "<Figure size 800x600 with 1 Axes>"
            ],
            "image/png": "[encoded data removed]"
          },
          "metadata": {}
        },
        {
          "output_type": "stream",
          "name": "stdout",
          "text": [
            "Model and tokenizer saved!\n"
          ]
        }
      ],
      "source": [
        "import numpy as np\n",
        "import matplotlib.pyplot as plt\n",
        "from sklearn.metrics import roc_curve, auc\n",
        "from transformers import AutoConfig, AutoModelForSequenceClassification, TrainingArguments, Trainer, DataCollatorWithPadding\n",
        "from sklearn.metrics import precision_recall_fscore_support, accuracy_score\n",
        "\n",
        "# Load and modify the configuration\n",
        "num_labels = len(label_encoder.classes_)\n",
        "config = AutoConfig.from_pretrained(\"dmis-lab/biobert-base-cased-v1.1\", num_labels=num_labels)\n",
        "config.hidden_dropout_prob = 0.5  # Increased dropout\n",
        "config.attention_probs_dropout_prob = 0.5\n",
        "\n",
        "# Load model with classification head\n",
        "model = AutoModelForSequenceClassification.from_pretrained(\"emilyalsentzer/Bio_ClinicalBERT\", config=config)\n",
        "\n",
        "# Training arguments\n",
        "training_args = TrainingArguments(\n",
        "    output_dir=\"./results\",\n",
        "    evaluation_strategy=\"epoch\",\n",
        "    save_strategy=\"epoch\",\n",
        "    learning_rate=2e-5,  # Stable learning rate\n",
        "    lr_scheduler_type=\"linear\",  # Gradual linear decay\n",
        "    warmup_steps=500,  # Gradual warmup\n",
        "    per_device_train_batch_size=8,\n",
        "    gradient_accumulation_steps=8,  # Simulate larger batch size\n",
        "    weight_decay=0.01,  # L2 regularization\n",
        "    num_train_epochs=5,\n",
        "    logging_steps=500,\n",
        "    save_total_limit=2,\n",
        "    load_best_model_at_end=True,\n",
        "    metric_for_best_model=\"eval_loss\",\n",
        "    fp16=True,  # Mixed precision\n",
        ")\n",
        "config.hidden_dropout_prob = 0.4\n",
        "config.attention_probs_dropout_prob = 0.4\n",
        "\n",
        "# Use dynamic padding\n",
        "data_collator = DataCollatorWithPadding(tokenizer=tokenizer)\n",
        "\n",
        "# Define compute_metrics function\n",
        "def compute_metrics(eval_pred):\n",
        "    logits, labels = eval_pred\n",
        "    preds = np.argmax(logits, axis=-1)\n",
        "    precision, recall, f1, _ = precision_recall_fscore_support(labels, preds, average=\"weighted\")\n",
        "    accuracy = accuracy_score(labels, preds)\n",
        "    return {\"accuracy\": accuracy, \"precision\": precision, \"recall\": recall, \"f1\": f1}\n",
        "\n",
        "# Define the Trainer\n",
        "trainer = Trainer(\n",
        "    model=model,\n",
        "    args=training_args,\n",
        "    train_dataset=train_dataset,\n",
        "    eval_dataset=val_dataset,\n",
        "    data_collator=data_collator,\n",
        "    compute_metrics=compute_metrics\n",
        ")\n",
        "\n",
        "# Train the model\n",
        "trainer.train()\n",
        "\n",
        "# Evaluate the model\n",
        "results = trainer.evaluate(test_dataset)\n",
        "print(\"Evaluation Results:\", results)\n",
        "\n",
        "# Function to plot AUC-ROC curve\n",
        "def plot_roc_auc(trainer, test_dataset):\n",
        "    # Predict probabilities\n",
        "    predictions = trainer.predict(test_dataset)\n",
        "    logits = predictions.predictions\n",
        "    labels = predictions.label_ids\n",
        "\n",
        "    # Convert logits to probabilities using softmax\n",
        "    probs = np.exp(logits) / np.sum(np.exp(logits), axis=-1, keepdims=True)\n",
        "\n",
        "    # Compute ROC curve and AUC for each class\n",
        "    fpr, tpr, roc_auc = {}, {}, {}\n",
        "    n_classes = logits.shape[1]\n",
        "\n",
        "    for i in range(n_classes):\n",
        "        binary_labels = (labels == i).astype(int)  # Binary labels for class i\n",
        "        fpr[i], tpr[i], _ = roc_curve(binary_labels, probs[:, i])\n",
        "        roc_auc[i] = auc(fpr[i], tpr[i])\n",
        "\n",
        "    # Plot ROC curve\n",
        "    plt.figure(figsize=(8, 6))\n",
        "    for i in range(n_classes):\n",
        "        plt.plot(fpr[i], tpr[i], label=f'Class {i} (AUC = {roc_auc[i]:.2f})')\n",
        "\n",
        "    plt.plot([0, 1], [0, 1], color=\"gray\", linestyle=\"--\")\n",
        "    plt.xlabel(\"False Positive Rate\")\n",
        "    plt.ylabel(\"True Positive Rate\")\n",
        "    plt.title(\"ROC-AUC Curve\")\n",
        "    plt.legend(loc=\"lower right\")\n",
        "    plt.show()\n",
        "\n",
        "# Plot ROC-AUC Curve\n",
        "plot_roc_auc(trainer, test_dataset)\n",
        "\n",
        "# Save the model and tokenizer\n",
        "model.save_pretrained(\"./saved_model\")\n",
        "tokenizer.save_pretrained(\"./saved_model\")\n",
        "print(\"Model and tokenizer saved!\")\n"
      ]
    }
  ],
  "metadata": {
    "accelerator": "GPU",
    "colab": {
      "gpuType": "T4",
      "provenance": []
    },
    "kernelspec": {
      "display_name": "Python 3",
      "name": "python3"
    },
    "language_info": {
      "name": "python"
    }
  },
  "nbformat": 4,
  "nbformat_minor": 0
}